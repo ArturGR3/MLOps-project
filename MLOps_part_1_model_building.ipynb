{
 "cells": [
  {
   "cell_type": "markdown",
   "metadata": {},
   "source": [
    "# Introduction\n",
    "This jupyter notebook covers part of the project related to:\n",
    "\n",
    "1) Data acquisition (Kaggle competition using Kaggle API)\n",
    "2) Data type optimization for memory usage reduction and preparing data to run automated feature engineering\n",
    "3) Feature enginering (using automated feature engineering framework OpenFE)\n",
    "4) Creation of machine learning model using Autogluon (AutoML framework) and experimentation tracking using MlFlow\n",
    "5) Getting the model from s3 bucket using MlflowClient\n",
    "5) Predicting on the test set and submiting results to Kaggle competition \n",
    "\n",
    "The part with model deployment as web-service and monitoring will be covered in the folder web_service_mlflow_visualization."
   ]
  },
  {
   "cell_type": "markdown",
   "metadata": {},
   "source": [
    "### Table of Contents\n",
    "- [Importing Libraries](#importing-libraries)\n",
    "- [Connecting to Kaggle Competition and Downloading Data](#connecting-to-kaggle-competition-and-downloading-data)\n",
    "- [Data Preprocessing](#data-preprocessing)\n",
    "- [Automated Feature Engineering using OpenFE](#automated-feature-engineering-using-openfe)\n",
    "- [Model Building using AutoGluon and Tracking using MLflow Server](#model-building-using-autogluon-and-tracking-using-mlflow-server)\n",
    "- [Submitting Results to Kaggle Competition and Storing Results in MLflow](#submitting-results-to-kaggle-competition-and-storing-results-in-mlflow)\n"
   ]
  },
  {
   "cell_type": "markdown",
   "metadata": {},
   "source": [
    "#### Importing Libraries\n",
    "\n",
    "You can notice below that most of the code is wrapped in custom modules. \n",
    "1) kaggle_client - is a kaggle API wrapper that allows to download test, train, and submition files. It also provides a convinient way to submit results to kaggle competetion.\n",
    "2) data_preprocesing - is used for data type optimization and preparing data for automated feature enginerring framework OpenFE.\n",
    "3) feature_engineering - is a wrapper around OpenFE, where it creates stratified sample and uses it to create new features from existing ones. More detail look in [feature_engineering.ipynb](https://github.com/ArturGR3/MLOPs-homeworks/blob/main/project/mlops_project/feature_engineering/feature_engineering.ipynb)\n",
    "4) mlflow_client - is a wrapper around Autogluon (AutoML framework) and Mlflow experiment tracking.\n",
    "5) download_folder_s3 - is used to pull folder from S3 bucket. We will need this to bring in AutoGluon model back from S3 for predictions."
   ]
  },
  {
   "cell_type": "code",
   "execution_count": 2,
   "metadata": {},
   "outputs": [
    {
     "name": "stderr",
     "output_type": "stream",
     "text": [
      "/opt/conda/envs/project/lib/python3.9/site-packages/tqdm/auto.py:21: TqdmWarning: IProgress not found. Please update jupyter and ipywidgets. See https://ipywidgets.readthedocs.io/en/stable/user_install.html\n",
      "  from .autonotebook import tqdm as notebook_tqdm\n"
     ]
    },
    {
     "name": "stdout",
     "output_type": "stream",
     "text": [
      "project path /workspaces/MLOPs-homeworks/project/mlops_project\n"
     ]
    }
   ],
   "source": [
    "import pandas as pd\n",
    "import os\n",
    "import sys\n",
    "import json\n",
    "from mlflow.tracking import MlflowClient\n",
    "from autogluon.tabular import TabularPredictor\n",
    "import logging\n",
    "from dotenv import load_dotenv, find_dotenv\n",
    "\n",
    "# Make sure that correct .env is loaded\n",
    "load_dotenv(find_dotenv(filename=\"mlops_project.env\", usecwd=True, raise_error_if_not_found=True))\n",
    "project_path = os.getenv(\"PROJECT_PATH\")\n",
    "print(f\"project path {project_path}\")\n",
    "\n",
    "# Make sure that the project path is in the sys.path to be able to import modules\n",
    "if project_path not in sys.path:\n",
    "    sys.path.append(project_path)\n",
    "\n",
    "# Import custom modules\n",
    "from modules.kaggle_client import KaggleClient \n",
    "from modules.data_preprocesing import DataPreprocessor \n",
    "from modules.feature_engineering import FeatureEnginering \n",
    "from modules.mlflow_client import MLflowAutoGluon \n",
    "from modules.download_folder_s3 import download_s3_folder, list_files_in_s3_folder "
   ]
  },
  {
   "cell_type": "markdown",
   "metadata": {},
   "source": [
    "#### Connecting to Kaggle Competition and Downloading Data\n",
    "\n",
    "We are using one of the tabular playground searies [Regression with a Tabular Media Campaign Cost Dataset](https://www.kaggle.com/competitions/playground-series-s3e11/overview) that aim to predict the cost of media campaign. This analysis could be easily replicated to other tabular series by changing below parameters."
   ]
  },
  {
   "cell_type": "code",
   "execution_count": 3,
   "metadata": {},
   "outputs": [],
   "source": [
    "# Define the competition name and target column\n",
    "competition_name = \"playground-series-s3e11\"\n",
    "autogluon_preset = ['best_quality']\n",
    "run_time = 4 # in minutes\n",
    "target = \"cost\""
   ]
  },
  {
   "cell_type": "code",
   "execution_count": 4,
   "metadata": {},
   "outputs": [
    {
     "name": "stdout",
     "output_type": "stream",
     "text": [
      "Data downloaded /workspaces/MLOPs-homeworks/project/mlops_project/data/playground-series-s3e11/raw\n"
     ]
    },
    {
     "data": {
      "text/plain": [
       "['train.csv', 'test.csv', 'sample_submission.csv']"
      ]
     },
     "execution_count": 4,
     "metadata": {},
     "output_type": "execute_result"
    }
   ],
   "source": [
    "# Initialize KaggleClient to be able to talk to kaggle API\n",
    "kaggle_client = KaggleClient(competition_name=competition_name, target_column=target)\n",
    "# Downloads raw data for a given competition locally to the data folder\n",
    "kaggle_client.download_data()\n",
    "# Show the content of the data folder\n",
    "os.listdir(f\"{project_path}/data/{competition_name}/raw\")"
   ]
  },
  {
   "cell_type": "markdown",
   "metadata": {},
   "source": [
    "#### Data Preprocessing\n",
    "Here were will perform some data types optimization techniques to reduce the storage size and efficiency of the models that we are building. Some of the optimization techniques include:\n",
    "1) Downcasting numeric columns to reduce memory usage.\n",
    "2) Converting object columns to category or datetime columns based on uniqueness.\n",
    "3) Converting float columns to integer columns if all fractional parts are 0.\n",
    "4) Replacing some of the special characters in column names to '_' to be able to feed the dataset to OpenFe.\n",
    "\n",
    "All the data type changes and column name transformations will be stored in convinient json file."
   ]
  },
  {
   "cell_type": "code",
   "execution_count": 5,
   "metadata": {},
   "outputs": [],
   "source": [
    "# Preprocess data to adjust data types and reduce memory usage\n",
    "logging.basicConfig(level=logging.INFO, format=\"%(asctime)s - %(name)s - %(levelname)s - %(message)s\")\n",
    "\n",
    "data_preprocessor = DataPreprocessor(competition_name)\n",
    "train = pd.read_csv(os.path.join(data_preprocessor.df_raw_path, \"train.csv\"))\n",
    "test = pd.read_csv(os.path.join(data_preprocessor.df_raw_path, \"test.csv\"))\n",
    "submission = pd.read_csv(os.path.join(data_preprocessor.df_raw_path, \"sample_submission.csv\"))"
   ]
  },
  {
   "cell_type": "code",
   "execution_count": 6,
   "metadata": {},
   "outputs": [
    {
     "data": {
      "text/html": [
       "<div>\n",
       "<style scoped>\n",
       "    .dataframe tbody tr th:only-of-type {\n",
       "        vertical-align: middle;\n",
       "    }\n",
       "\n",
       "    .dataframe tbody tr th {\n",
       "        vertical-align: top;\n",
       "    }\n",
       "\n",
       "    .dataframe thead th {\n",
       "        text-align: right;\n",
       "    }\n",
       "</style>\n",
       "<table border=\"1\" class=\"dataframe\">\n",
       "  <thead>\n",
       "    <tr style=\"text-align: right;\">\n",
       "      <th></th>\n",
       "      <th>0</th>\n",
       "      <th>1</th>\n",
       "      <th>2</th>\n",
       "      <th>3</th>\n",
       "      <th>4</th>\n",
       "    </tr>\n",
       "  </thead>\n",
       "  <tbody>\n",
       "    <tr>\n",
       "      <th>id</th>\n",
       "      <td>0.00</td>\n",
       "      <td>1.00</td>\n",
       "      <td>2.00</td>\n",
       "      <td>3.00</td>\n",
       "      <td>4.00</td>\n",
       "    </tr>\n",
       "    <tr>\n",
       "      <th>store_sales(in millions)</th>\n",
       "      <td>8.61</td>\n",
       "      <td>5.00</td>\n",
       "      <td>14.08</td>\n",
       "      <td>4.02</td>\n",
       "      <td>2.13</td>\n",
       "    </tr>\n",
       "    <tr>\n",
       "      <th>unit_sales(in millions)</th>\n",
       "      <td>3.00</td>\n",
       "      <td>2.00</td>\n",
       "      <td>4.00</td>\n",
       "      <td>3.00</td>\n",
       "      <td>3.00</td>\n",
       "    </tr>\n",
       "    <tr>\n",
       "      <th>total_children</th>\n",
       "      <td>2.00</td>\n",
       "      <td>4.00</td>\n",
       "      <td>0.00</td>\n",
       "      <td>5.00</td>\n",
       "      <td>5.00</td>\n",
       "    </tr>\n",
       "    <tr>\n",
       "      <th>num_children_at_home</th>\n",
       "      <td>2.00</td>\n",
       "      <td>0.00</td>\n",
       "      <td>0.00</td>\n",
       "      <td>0.00</td>\n",
       "      <td>0.00</td>\n",
       "    </tr>\n",
       "    <tr>\n",
       "      <th>avg_cars_at home(approx).1</th>\n",
       "      <td>2.00</td>\n",
       "      <td>3.00</td>\n",
       "      <td>3.00</td>\n",
       "      <td>0.00</td>\n",
       "      <td>3.00</td>\n",
       "    </tr>\n",
       "    <tr>\n",
       "      <th>gross_weight</th>\n",
       "      <td>10.30</td>\n",
       "      <td>6.66</td>\n",
       "      <td>21.30</td>\n",
       "      <td>14.80</td>\n",
       "      <td>17.00</td>\n",
       "    </tr>\n",
       "    <tr>\n",
       "      <th>recyclable_package</th>\n",
       "      <td>1.00</td>\n",
       "      <td>1.00</td>\n",
       "      <td>1.00</td>\n",
       "      <td>0.00</td>\n",
       "      <td>1.00</td>\n",
       "    </tr>\n",
       "    <tr>\n",
       "      <th>low_fat</th>\n",
       "      <td>0.00</td>\n",
       "      <td>0.00</td>\n",
       "      <td>0.00</td>\n",
       "      <td>1.00</td>\n",
       "      <td>1.00</td>\n",
       "    </tr>\n",
       "    <tr>\n",
       "      <th>units_per_case</th>\n",
       "      <td>32.00</td>\n",
       "      <td>1.00</td>\n",
       "      <td>26.00</td>\n",
       "      <td>36.00</td>\n",
       "      <td>20.00</td>\n",
       "    </tr>\n",
       "    <tr>\n",
       "      <th>store_sqft</th>\n",
       "      <td>36509.00</td>\n",
       "      <td>28206.00</td>\n",
       "      <td>21215.00</td>\n",
       "      <td>21215.00</td>\n",
       "      <td>27694.00</td>\n",
       "    </tr>\n",
       "    <tr>\n",
       "      <th>coffee_bar</th>\n",
       "      <td>0.00</td>\n",
       "      <td>1.00</td>\n",
       "      <td>1.00</td>\n",
       "      <td>1.00</td>\n",
       "      <td>1.00</td>\n",
       "    </tr>\n",
       "    <tr>\n",
       "      <th>video_store</th>\n",
       "      <td>0.00</td>\n",
       "      <td>0.00</td>\n",
       "      <td>0.00</td>\n",
       "      <td>0.00</td>\n",
       "      <td>1.00</td>\n",
       "    </tr>\n",
       "    <tr>\n",
       "      <th>salad_bar</th>\n",
       "      <td>0.00</td>\n",
       "      <td>0.00</td>\n",
       "      <td>0.00</td>\n",
       "      <td>0.00</td>\n",
       "      <td>1.00</td>\n",
       "    </tr>\n",
       "    <tr>\n",
       "      <th>prepared_food</th>\n",
       "      <td>0.00</td>\n",
       "      <td>0.00</td>\n",
       "      <td>0.00</td>\n",
       "      <td>0.00</td>\n",
       "      <td>1.00</td>\n",
       "    </tr>\n",
       "    <tr>\n",
       "      <th>florist</th>\n",
       "      <td>0.00</td>\n",
       "      <td>0.00</td>\n",
       "      <td>0.00</td>\n",
       "      <td>0.00</td>\n",
       "      <td>1.00</td>\n",
       "    </tr>\n",
       "    <tr>\n",
       "      <th>cost</th>\n",
       "      <td>62.09</td>\n",
       "      <td>121.80</td>\n",
       "      <td>83.51</td>\n",
       "      <td>66.78</td>\n",
       "      <td>111.51</td>\n",
       "    </tr>\n",
       "  </tbody>\n",
       "</table>\n",
       "</div>"
      ],
      "text/plain": [
       "                                   0         1         2         3         4\n",
       "id                              0.00      1.00      2.00      3.00      4.00\n",
       "store_sales(in millions)        8.61      5.00     14.08      4.02      2.13\n",
       "unit_sales(in millions)         3.00      2.00      4.00      3.00      3.00\n",
       "total_children                  2.00      4.00      0.00      5.00      5.00\n",
       "num_children_at_home            2.00      0.00      0.00      0.00      0.00\n",
       "avg_cars_at home(approx).1      2.00      3.00      3.00      0.00      3.00\n",
       "gross_weight                   10.30      6.66     21.30     14.80     17.00\n",
       "recyclable_package              1.00      1.00      1.00      0.00      1.00\n",
       "low_fat                         0.00      0.00      0.00      1.00      1.00\n",
       "units_per_case                 32.00      1.00     26.00     36.00     20.00\n",
       "store_sqft                  36509.00  28206.00  21215.00  21215.00  27694.00\n",
       "coffee_bar                      0.00      1.00      1.00      1.00      1.00\n",
       "video_store                     0.00      0.00      0.00      0.00      1.00\n",
       "salad_bar                       0.00      0.00      0.00      0.00      1.00\n",
       "prepared_food                   0.00      0.00      0.00      0.00      1.00\n",
       "florist                         0.00      0.00      0.00      0.00      1.00\n",
       "cost                           62.09    121.80     83.51     66.78    111.51"
      ]
     },
     "execution_count": 6,
     "metadata": {},
     "output_type": "execute_result"
    }
   ],
   "source": [
    "# Sample data before preprocessing\n",
    "train.head(5).T"
   ]
  },
  {
   "cell_type": "markdown",
   "metadata": {},
   "source": [
    "Based on the logging below, you can notice that storage memory reduced by around 78% which is pretty significant, given that we did not loose much information in converting these columns to more optimal data types."
   ]
  },
  {
   "cell_type": "code",
   "execution_count": 7,
   "metadata": {},
   "outputs": [
    {
     "name": "stderr",
     "output_type": "stream",
     "text": [
      "2024-07-23 14:22:11,606 - modules.data_preprocesing - INFO - Initial memory usage: 0.045640 GB\n"
     ]
    },
    {
     "name": "stderr",
     "output_type": "stream",
     "text": [
      "2024-07-23 14:22:11,722 - modules.data_preprocesing - INFO - Final memory usage: 0.010739 GB\n",
      "2024-07-23 14:22:11,723 - modules.data_preprocesing - INFO - Memory reduced by 0.034901 GB (76.47%).\n",
      "2024-07-23 14:22:11,753 - modules.data_preprocesing - INFO - Data stored in /workspaces/MLOPs-homeworks/project/mlops_project/data/playground-series-s3e11/preprocessed/data_dtype_optimized.pkl\n",
      "2024-07-23 14:22:11,757 - modules.data_preprocesing - INFO - JSON data saved to /workspaces/MLOPs-homeworks/project/mlops_project/data/playground-series-s3e11/preprocessed/column_changes.json\n",
      "2024-07-23 14:22:11,758 - modules.data_preprocesing - INFO - JSON data saved to /workspaces/MLOPs-homeworks/project/mlops_project/data/playground-series-s3e11/preprocessed/dtype_changes.json\n",
      "2024-07-23 14:22:11,761 - modules.data_preprocesing - INFO - Initial memory usage: 0.028637 GB\n",
      "2024-07-23 14:22:11,832 - modules.data_preprocesing - INFO - Final memory usage: 0.006264 GB\n",
      "2024-07-23 14:22:11,833 - modules.data_preprocesing - INFO - Memory reduced by 0.022373 GB (78.12%).\n",
      "2024-07-23 14:22:11,847 - modules.data_preprocesing - INFO - Data stored in /workspaces/MLOPs-homeworks/project/mlops_project/data/playground-series-s3e11/preprocessed/data_dtype_optimized.pkl\n",
      "2024-07-23 14:22:11,847 - modules.data_preprocesing - INFO - JSON data saved to /workspaces/MLOPs-homeworks/project/mlops_project/data/playground-series-s3e11/preprocessed/column_changes.json\n",
      "2024-07-23 14:22:11,848 - modules.data_preprocesing - INFO - JSON data saved to /workspaces/MLOPs-homeworks/project/mlops_project/data/playground-series-s3e11/preprocessed/dtype_changes.json\n"
     ]
    }
   ],
   "source": [
    "# Preprocessing data\n",
    "train = data_preprocessor.optimize_dtypes(train)\n",
    "test = data_preprocessor.optimize_dtypes(test)"
   ]
  },
  {
   "cell_type": "markdown",
   "metadata": {},
   "source": [
    "You can see the mapping of old column names to new columns from json file that we stored after preprocessing."
   ]
  },
  {
   "cell_type": "code",
   "execution_count": 8,
   "metadata": {},
   "outputs": [
    {
     "data": {
      "text/plain": [
       "id                                                    id\n",
       "store_sales(in millions)        store_sales_in_millions_\n",
       "unit_sales(in millions)          unit_sales_in_millions_\n",
       "total_children                            total_children\n",
       "num_children_at_home                num_children_at_home\n",
       "avg_cars_at home(approx).1    avg_cars_at_home_approx__1\n",
       "gross_weight                                gross_weight\n",
       "recyclable_package                    recyclable_package\n",
       "low_fat                                          low_fat\n",
       "units_per_case                            units_per_case\n",
       "store_sqft                                    store_sqft\n",
       "coffee_bar                                    coffee_bar\n",
       "video_store                                  video_store\n",
       "salad_bar                                      salad_bar\n",
       "prepared_food                              prepared_food\n",
       "florist                                          florist\n",
       "dtype: object"
      ]
     },
     "execution_count": 8,
     "metadata": {},
     "output_type": "execute_result"
    }
   ],
   "source": [
    "# Renaming columns\n",
    "with open(\"/workspaces/MLOPs-homeworks/project/mlops_project/data/playground-series-s3e11/preprocessed/column_changes.json\", \"r\") as f:\n",
    "    column_changes = json.load(f)\n",
    "column_changes = pd.Series(column_changes)\n",
    "column_changes"
   ]
  },
  {
   "cell_type": "markdown",
   "metadata": {},
   "source": [
    "Below you can see what were the data types changes, you can notice that some of the heavy float64 data types moved to int8, that significantly reduced that memory usage."
   ]
  },
  {
   "cell_type": "code",
   "execution_count": 9,
   "metadata": {},
   "outputs": [
    {
     "data": {
      "text/html": [
       "<div>\n",
       "<style scoped>\n",
       "    .dataframe tbody tr th:only-of-type {\n",
       "        vertical-align: middle;\n",
       "    }\n",
       "\n",
       "    .dataframe tbody tr th {\n",
       "        vertical-align: top;\n",
       "    }\n",
       "\n",
       "    .dataframe thead th {\n",
       "        text-align: right;\n",
       "    }\n",
       "</style>\n",
       "<table border=\"1\" class=\"dataframe\">\n",
       "  <thead>\n",
       "    <tr style=\"text-align: right;\">\n",
       "      <th></th>\n",
       "      <th>old_dtype</th>\n",
       "      <th>new_dtype</th>\n",
       "    </tr>\n",
       "  </thead>\n",
       "  <tbody>\n",
       "    <tr>\n",
       "      <th>low_fat</th>\n",
       "      <td>float64</td>\n",
       "      <td>int8</td>\n",
       "    </tr>\n",
       "    <tr>\n",
       "      <th>store_sqft</th>\n",
       "      <td>float64</td>\n",
       "      <td>int32</td>\n",
       "    </tr>\n",
       "    <tr>\n",
       "      <th>total_children</th>\n",
       "      <td>float64</td>\n",
       "      <td>int8</td>\n",
       "    </tr>\n",
       "    <tr>\n",
       "      <th>recyclable_package</th>\n",
       "      <td>float64</td>\n",
       "      <td>int8</td>\n",
       "    </tr>\n",
       "    <tr>\n",
       "      <th>salad_bar</th>\n",
       "      <td>float64</td>\n",
       "      <td>int8</td>\n",
       "    </tr>\n",
       "    <tr>\n",
       "      <th>avg_cars_at_home_approx__1</th>\n",
       "      <td>float64</td>\n",
       "      <td>int8</td>\n",
       "    </tr>\n",
       "    <tr>\n",
       "      <th>unit_sales_in_millions_</th>\n",
       "      <td>float64</td>\n",
       "      <td>int8</td>\n",
       "    </tr>\n",
       "    <tr>\n",
       "      <th>florist</th>\n",
       "      <td>float64</td>\n",
       "      <td>int8</td>\n",
       "    </tr>\n",
       "    <tr>\n",
       "      <th>units_per_case</th>\n",
       "      <td>float64</td>\n",
       "      <td>int8</td>\n",
       "    </tr>\n",
       "    <tr>\n",
       "      <th>gross_weight</th>\n",
       "      <td>float64</td>\n",
       "      <td>float32</td>\n",
       "    </tr>\n",
       "    <tr>\n",
       "      <th>prepared_food</th>\n",
       "      <td>float64</td>\n",
       "      <td>int8</td>\n",
       "    </tr>\n",
       "    <tr>\n",
       "      <th>video_store</th>\n",
       "      <td>float64</td>\n",
       "      <td>int8</td>\n",
       "    </tr>\n",
       "    <tr>\n",
       "      <th>store_sales_in_millions_</th>\n",
       "      <td>float64</td>\n",
       "      <td>float32</td>\n",
       "    </tr>\n",
       "    <tr>\n",
       "      <th>coffee_bar</th>\n",
       "      <td>float64</td>\n",
       "      <td>int8</td>\n",
       "    </tr>\n",
       "    <tr>\n",
       "      <th>num_children_at_home</th>\n",
       "      <td>float64</td>\n",
       "      <td>int8</td>\n",
       "    </tr>\n",
       "    <tr>\n",
       "      <th>id</th>\n",
       "      <td>int64</td>\n",
       "      <td>int32</td>\n",
       "    </tr>\n",
       "  </tbody>\n",
       "</table>\n",
       "</div>"
      ],
      "text/plain": [
       "                           old_dtype new_dtype\n",
       "low_fat                      float64      int8\n",
       "store_sqft                   float64     int32\n",
       "total_children               float64      int8\n",
       "recyclable_package           float64      int8\n",
       "salad_bar                    float64      int8\n",
       "avg_cars_at_home_approx__1   float64      int8\n",
       "unit_sales_in_millions_      float64      int8\n",
       "florist                      float64      int8\n",
       "units_per_case               float64      int8\n",
       "gross_weight                 float64   float32\n",
       "prepared_food                float64      int8\n",
       "video_store                  float64      int8\n",
       "store_sales_in_millions_     float64   float32\n",
       "coffee_bar                   float64      int8\n",
       "num_children_at_home         float64      int8\n",
       "id                             int64     int32"
      ]
     },
     "execution_count": 9,
     "metadata": {},
     "output_type": "execute_result"
    }
   ],
   "source": [
    "# Optimizing data types\n",
    "with open(\"/workspaces/MLOPs-homeworks/project/mlops_project/data/playground-series-s3e11/preprocessed/dtype_changes.json\", \"r\") as f:\n",
    "    dtype_changes = json.load(f)\n",
    "df_dtype_changes = pd.DataFrame(dtype_changes)\n",
    "df_dtype_changes.T"
   ]
  },
  {
   "cell_type": "markdown",
   "metadata": {},
   "source": [
    "#### Automated Feature Engineering using OpenFE library\n",
    "We use open source package [OpenFE](https://github.com/IIIS-Li-Group/OpenFE) for automated feature engineering. It takes time to run this process on relatevilly large datasets, thus we perform stratified sampling to be able to create features faster. More in depth analysis about this technique and effect of new features on model performance you can find it this [Medium article](paste a link)."
   ]
  },
  {
   "cell_type": "code",
   "execution_count": 10,
   "metadata": {},
   "outputs": [
    {
     "name": "stderr",
     "output_type": "stream",
     "text": [
      "100%|██████████| 16/16 [00:24<00:00,  1.52s/it]\n",
      "100%|██████████| 16/16 [00:31<00:00,  1.94s/it]\n",
      "100%|██████████| 16/16 [00:14<00:00,  1.14it/s]\n"
     ]
    },
    {
     "name": "stdout",
     "output_type": "stream",
     "text": [
      "The top 5 generated features are:\n",
      "GroupByThenMean(video_store,store_sqft)\n",
      "Combine(store_sqft,salad_bar)\n",
      "(store_sqft/florist)\n",
      "CombineThenFreq(total_children,store_sqft)\n",
      "(avg_cars_at_home_approx__1/store_sqft)\n"
     ]
    }
   ],
   "source": [
    "# Feature engineering with OpenFE\n",
    "feature_engineering = FeatureEnginering(competition_name, target_column=\"cost\")\n",
    "train_transformed, test_transformend = feature_engineering.openfe_transform(train, test)\n",
    "\n",
    "# Saving transformed data\n",
    "train_transformed = pd.read_pickle(\n",
    "    filepath_or_buffer=f\"{project_path}/data/{competition_name}/feature_engineered/train_transformed.pkl\"\n",
    ")\n",
    "test_transformed = pd.read_pickle(\n",
    "    filepath_or_buffer=f\"{project_path}/data/{competition_name}/feature_engineered/test_transformed.pkl\"\n",
    ")\n"
   ]
  },
  {
   "cell_type": "markdown",
   "metadata": {},
   "source": [
    "#### Model Building using AutoGluon and Tracking using MLflow Server\n",
    "For model building, we will use the AutoML library AutoGluon, which provides an easy way to create an ensemble of models with hyperparameter tuning in a few lines of code. We will use an MLflow server on EC2 with an S3 bucket as the artifact store to keep track of model performance. AutoGluon offers a way to store the model specifically for deployment, reducing the memory requirements. This model will be used for deployment as a web service in the second part of the project."
   ]
  },
  {
   "cell_type": "code",
   "execution_count": 17,
   "metadata": {},
   "outputs": [],
   "source": [
    "# Create autogloun model using MlfLow server in EC2 and store artifacts in S3\n",
    "# You need to make sure that EC2 instance is running the server\n",
    "tracking_server = os.getenv(\"TRACKING_SERVER_HOST\")\n",
    "artifact_path_s3 = os.getenv(\"AWS_BUCKET_NAME\")\n",
    "experiment_name = \"mlops_project\""
   ]
  },
  {
   "cell_type": "code",
   "execution_count": 21,
   "metadata": {},
   "outputs": [
    {
     "name": "stdout",
     "output_type": "stream",
     "text": [
      "Remote setup with remote tracking server\n"
     ]
    },
    {
     "name": "stderr",
     "output_type": "stream",
     "text": [
      "Warning: path already exists! This predictor may overwrite an existing predictor! path=\"AutoGluon_mlflow_best_quality\"\n",
      "Verbosity: 2 (Standard Logging)\n",
      "=================== System Info ===================\n",
      "AutoGluon Version:  1.1.1\n",
      "Python Version:     3.9.19\n",
      "Operating System:   Linux\n",
      "Platform Machine:   x86_64\n",
      "Platform Version:   #23~22.04.1-Ubuntu SMP Thu May  9 17:59:24 UTC 2024\n",
      "CPU Count:          2\n",
      "Memory Avail:       4.52 GB / 7.74 GB (58.4%)\n",
      "Disk Space Avail:   8.45 GB / 31.33 GB (27.0%)\n",
      "\tWARNING: Available disk space is low and there is a risk that AutoGluon will run out of disk during fit, causing an exception. \n",
      "\tWe recommend a minimum available disk space of 10 GB, and large datasets may require more.\n",
      "===================================================\n",
      "Presets specified: ['best_quality']\n",
      "Setting dynamic_stacking from 'auto' to True. Reason: Enable dynamic_stacking when use_bag_holdout is disabled. (use_bag_holdout=False)\n"
     ]
    },
    {
     "name": "stdout",
     "output_type": "stream",
     "text": [
      "No process to kill on port 5000\n",
      "Experiment mlops_project already exists\n",
      "Experiment Name: mlops_project\n",
      "Experiment ID: 3\n",
      "Artifact Location: s3://mlflow-artifact-ag3\n",
      "Creation timestamp: 1721744852421\n",
      "Current tracking URI: http://ec2-13-60-23-26.eu-north-1.compute.amazonaws.com:5000\n"
     ]
    },
    {
     "name": "stderr",
     "output_type": "stream",
     "text": [
      "Stack configuration (auto_stack=True): num_stack_levels=1, num_bag_folds=8, num_bag_sets=1\n",
      "DyStack is enabled (dynamic_stacking=True). AutoGluon will try to determine whether the input data is affected by stacked overfitting and enable or disable stacking as a consequence.\n",
      "\tThis is used to identify the optimal `num_stack_levels` value. Copies of AutoGluon will be fit on subsets of the data. Then holdout validation data is used to detect stacked overfitting.\n",
      "\tRunning DyStack for up to 60s of the 240s of remaining time (25%).\n",
      "\t\tContext path: \"AutoGluon_mlflow_best_quality/ds_sub_fit/sub_fit_ho\"\n",
      "Running DyStack sub-fit ...\n",
      "Beginning AutoGluon training ... Time limit = 60s\n",
      "AutoGluon will save models to \"AutoGluon_mlflow_best_quality/ds_sub_fit/sub_fit_ho\"\n",
      "Train Data Rows:    320298\n",
      "Train Data Columns: 21\n",
      "Label Column:       cost\n",
      "Problem Type:       regression\n",
      "Preprocessing data ...\n",
      "Using Feature Generators to preprocess the data ...\n",
      "Fitting AutoMLPipelineFeatureGenerator...\n",
      "\tAvailable Memory:                    4641.61 MB\n",
      "\tTrain Data (Original)  Memory Usage: 18.63 MB (0.4% of available memory)\n",
      "\tInferring data type of each feature based on column values. Set feature_metadata_in to manually specify special dtypes of the features.\n",
      "\tStage 1 Generators:\n",
      "\t\tFitting AsTypeFeatureGenerator...\n",
      "\t\t\tNote: Converting 7 features to boolean dtype as they only contain 2 unique values.\n",
      "\tStage 2 Generators:\n",
      "\t\tFitting FillNaFeatureGenerator...\n",
      "\tStage 3 Generators:\n",
      "\t\tFitting IdentityFeatureGenerator...\n",
      "\t\tFitting CategoryFeatureGenerator...\n",
      "\t\t\tFitting CategoryMemoryMinimizeFeatureGenerator...\n",
      "\tStage 4 Generators:\n",
      "\t\tFitting DropUniqueFeatureGenerator...\n",
      "\tStage 5 Generators:\n",
      "\t\tFitting DropDuplicatesFeatureGenerator...\n",
      "\tUnused Original Features (Count: 1): ['prepared_food']\n",
      "\t\tThese features were not used to generate any of the output features. Add a feature generator compatible with these features to utilize them.\n",
      "\t\tFeatures can also be unused if they carry very little information, such as being categorical but having almost entirely unique values or being duplicates of other features.\n",
      "\t\tThese features do not need to be present at inference time.\n",
      "\t\t('int', []) : 1 | ['prepared_food']\n",
      "\tTypes of features in original data (raw dtype, special dtypes):\n",
      "\t\t('category', []) :  1 | ['autoFE_f_1']\n",
      "\t\t('float', [])    :  6 | ['store_sales_in_millions_', 'gross_weight', 'autoFE_f_0', 'autoFE_f_2', 'autoFE_f_3', ...]\n",
      "\t\t('int', [])      : 13 | ['id', 'unit_sales_in_millions_', 'total_children', 'num_children_at_home', 'avg_cars_at_home_approx__1', ...]\n",
      "\tTypes of features in processed data (raw dtype, special dtypes):\n",
      "\t\t('category', [])  : 1 | ['autoFE_f_1']\n",
      "\t\t('float', [])     : 6 | ['store_sales_in_millions_', 'gross_weight', 'autoFE_f_0', 'autoFE_f_2', 'autoFE_f_3', ...]\n",
      "\t\t('int', [])       : 7 | ['id', 'unit_sales_in_millions_', 'total_children', 'num_children_at_home', 'avg_cars_at_home_approx__1', ...]\n",
      "\t\t('int', ['bool']) : 6 | ['recyclable_package', 'low_fat', 'coffee_bar', 'video_store', 'salad_bar', ...]\n",
      "\t0.6s = Fit runtime\n",
      "\t20 features in original data used to generate 20 features in processed data.\n",
      "\tTrain Data (Processed) Memory Usage: 18.33 MB (0.4% of available memory)\n",
      "Data preprocessing and feature engineering runtime = 0.65s ...\n",
      "AutoGluon will gauge predictive performance using evaluation metric: 'rmsle'\n",
      "\tThis metric's sign has been flipped to adhere to being higher_is_better. The metric score can be multiplied by -1 to get the metric value.\n",
      "\tTo change this, specify the eval_metric parameter of Predictor()\n",
      "Large model count detected (112 configs) ... Only displaying the first 3 models of each family. To see all, set `verbosity=3`.\n",
      "User-specified model hyperparameters to be fit:\n",
      "{\n",
      "\t'NN_TORCH': [{}, {'activation': 'elu', 'dropout_prob': 0.10077639529843717, 'hidden_size': 108, 'learning_rate': 0.002735937344002146, 'num_layers': 4, 'use_batchnorm': True, 'weight_decay': 1.356433327634438e-12, 'ag_args': {'name_suffix': '_r79', 'priority': -2}}, {'activation': 'elu', 'dropout_prob': 0.11897478034205347, 'hidden_size': 213, 'learning_rate': 0.0010474382260641949, 'num_layers': 4, 'use_batchnorm': False, 'weight_decay': 5.594471067786272e-10, 'ag_args': {'name_suffix': '_r22', 'priority': -7}}],\n",
      "\t'GBM': [{'extra_trees': True, 'ag_args': {'name_suffix': 'XT'}}, {}, 'GBMLarge'],\n",
      "\t'CAT': [{}, {'depth': 6, 'grow_policy': 'SymmetricTree', 'l2_leaf_reg': 2.1542798306067823, 'learning_rate': 0.06864209415792857, 'max_ctr_complexity': 4, 'one_hot_max_size': 10, 'ag_args': {'name_suffix': '_r177', 'priority': -1}}, {'depth': 8, 'grow_policy': 'Depthwise', 'l2_leaf_reg': 2.7997999596449104, 'learning_rate': 0.031375015734637225, 'max_ctr_complexity': 2, 'one_hot_max_size': 3, 'ag_args': {'name_suffix': '_r9', 'priority': -5}}],\n",
      "\t'XGB': [{}, {'colsample_bytree': 0.6917311125174739, 'enable_categorical': False, 'learning_rate': 0.018063876087523967, 'max_depth': 10, 'min_child_weight': 0.6028633586934382, 'ag_args': {'name_suffix': '_r33', 'priority': -8}}, {'colsample_bytree': 0.6628423832084077, 'enable_categorical': False, 'learning_rate': 0.08775715546881824, 'max_depth': 5, 'min_child_weight': 0.6294123374222513, 'ag_args': {'name_suffix': '_r89', 'priority': -16}}],\n",
      "\t'FASTAI': [{}, {'bs': 256, 'emb_drop': 0.5411770367537934, 'epochs': 43, 'layers': [800, 400], 'lr': 0.01519848858318159, 'ps': 0.23782946566604385, 'ag_args': {'name_suffix': '_r191', 'priority': -4}}, {'bs': 2048, 'emb_drop': 0.05070411322605811, 'epochs': 29, 'layers': [200, 100], 'lr': 0.08974235041576624, 'ps': 0.10393466140748028, 'ag_args': {'name_suffix': '_r102', 'priority': -11}}],\n",
      "\t'RF': [{'criterion': 'gini', 'ag_args': {'name_suffix': 'Gini', 'problem_types': ['binary', 'multiclass']}}, {'criterion': 'entropy', 'ag_args': {'name_suffix': 'Entr', 'problem_types': ['binary', 'multiclass']}}, {'criterion': 'squared_error', 'ag_args': {'name_suffix': 'MSE', 'problem_types': ['regression', 'quantile']}}],\n",
      "\t'XT': [{'criterion': 'gini', 'ag_args': {'name_suffix': 'Gini', 'problem_types': ['binary', 'multiclass']}}, {'criterion': 'entropy', 'ag_args': {'name_suffix': 'Entr', 'problem_types': ['binary', 'multiclass']}}, {'criterion': 'squared_error', 'ag_args': {'name_suffix': 'MSE', 'problem_types': ['regression', 'quantile']}}],\n",
      "\t'KNN': [{'weights': 'uniform', 'ag_args': {'name_suffix': 'Unif'}}, {'weights': 'distance', 'ag_args': {'name_suffix': 'Dist'}}],\n",
      "}\n",
      "AutoGluon will fit 2 stack levels (L1 to L2) ...\n",
      "Excluded models: ['KNN'] (Specified by `excluded_model_types`)\n",
      "Fitting 106 L1 models ...\n",
      "Fitting model: LightGBMXT_BAG_L1 ... Training model for up to 39.55s of the 59.33s of remaining time.\n",
      "\tFitting 8 child models (S1F1 - S1F8) | Fitting with SequentialLocalFoldFittingStrategy\n",
      "\tRan out of time, early stopping on iteration 126. Best iteration is:\n",
      "\t[126]\tvalid_set's l2: 810.422\tvalid_set's rmsle: -0.304502\n",
      "\tRan out of time, early stopping on iteration 147. Best iteration is:\n",
      "\t[147]\tvalid_set's l2: 808.005\tvalid_set's rmsle: -0.303448\n",
      "\tRan out of time, early stopping on iteration 149. Best iteration is:\n",
      "\t[149]\tvalid_set's l2: 810.624\tvalid_set's rmsle: -0.304282\n",
      "\tRan out of time, early stopping on iteration 150. Best iteration is:\n",
      "\t[150]\tvalid_set's l2: 803.571\tvalid_set's rmsle: -0.303784\n",
      "\tRan out of time, early stopping on iteration 159. Best iteration is:\n",
      "\t[159]\tvalid_set's l2: 807.451\tvalid_set's rmsle: -0.304311\n",
      "\tRan out of time, early stopping on iteration 179. Best iteration is:\n",
      "\t[179]\tvalid_set's l2: 803.908\tvalid_set's rmsle: -0.302738\n",
      "\tRan out of time, early stopping on iteration 200. Best iteration is:\n",
      "\t[200]\tvalid_set's l2: 806.701\tvalid_set's rmsle: -0.303086\n",
      "\tRan out of time, early stopping on iteration 233. Best iteration is:\n",
      "\t[233]\tvalid_set's l2: 804.589\tvalid_set's rmsle: -0.303155\n",
      "\t-0.3037\t = Validation score   (-rmsle)\n",
      "\t36.55s\t = Training   runtime\n",
      "\t1.84s\t = Validation runtime\n",
      "Fitting model: LightGBM_BAG_L1 ... Training model for up to 0.94s of the 20.72s of remaining time.\n",
      "\tFitting 8 child models (S1F1 - S1F8) | Fitting with SequentialLocalFoldFittingStrategy\n",
      "\tRan out of time, early stopping on iteration 1. Best iteration is:\n",
      "\t[1]\tvalid_set's l2: 889.64\tvalid_set's rmsle: -0.319304\n",
      "\tTime limit exceeded... Skipping LightGBM_BAG_L1.\n",
      "Fitting model: WeightedEnsemble_L2 ... Training model for up to 59.34s of the 19.74s of remaining time.\n",
      "\tEnsemble Weights: {'LightGBMXT_BAG_L1': 1.0}\n",
      "\t-0.3037\t = Validation score   (-rmsle)\n",
      "\t0.01s\t = Training   runtime\n",
      "\t0.01s\t = Validation runtime\n",
      "Excluded models: ['KNN'] (Specified by `excluded_model_types`)\n",
      "Fitting 106 L2 models ...\n",
      "Fitting model: LightGBMXT_BAG_L2 ... Training model for up to 19.71s of the 19.69s of remaining time.\n",
      "\tFitting 8 child models (S1F1 - S1F8) | Fitting with SequentialLocalFoldFittingStrategy\n",
      "\tRan out of time, early stopping on iteration 35. Best iteration is:\n",
      "\t[35]\tvalid_set's l2: 810.21\tvalid_set's rmsle: -0.305286\n",
      "\tRan out of time, early stopping on iteration 48. Best iteration is:\n",
      "\t[48]\tvalid_set's l2: 798.357\tvalid_set's rmsle: -0.302597\n",
      "\tRan out of time, early stopping on iteration 52. Best iteration is:\n",
      "\t[52]\tvalid_set's l2: 800.946\tvalid_set's rmsle: -0.302804\n",
      "\tRan out of time, early stopping on iteration 54. Best iteration is:\n",
      "\t[54]\tvalid_set's l2: 800.021\tvalid_set's rmsle: -0.302271\n",
      "\tRan out of time, early stopping on iteration 60. Best iteration is:\n",
      "\t[60]\tvalid_set's l2: 797.084\tvalid_set's rmsle: -0.301317\n",
      "\tRan out of time, early stopping on iteration 61. Best iteration is:\n",
      "\t[61]\tvalid_set's l2: 801.352\tvalid_set's rmsle: -0.302852\n",
      "\tRan out of time, early stopping on iteration 71. Best iteration is:\n",
      "\t[71]\tvalid_set's l2: 795.975\tvalid_set's rmsle: -0.301403\n",
      "\tRan out of time, early stopping on iteration 85. Best iteration is:\n",
      "\t[85]\tvalid_set's l2: 803.232\tvalid_set's rmsle: -0.30276\n",
      "\t-0.3027\t = Validation score   (-rmsle)\n",
      "\t18.41s\t = Training   runtime\n",
      "\t0.66s\t = Validation runtime\n",
      "Fitting model: WeightedEnsemble_L3 ... Training model for up to 59.34s of the 0.22s of remaining time.\n",
      "\tEnsemble Weights: {'LightGBMXT_BAG_L2': 1.0}\n",
      "\t-0.3027\t = Validation score   (-rmsle)\n",
      "\t0.43s\t = Training   runtime\n",
      "\t0.01s\t = Validation runtime\n",
      "AutoGluon training complete, total runtime = 60.27s ... Best model: WeightedEnsemble_L3 | Estimated inference throughput: 16007.7 rows/s (40038 batch size)\n",
      "TabularPredictor saved. To load, use: predictor = TabularPredictor.load(\"AutoGluon_mlflow_best_quality/ds_sub_fit/sub_fit_ho\")\n",
      "Deleting DyStack predictor artifacts (clean_up_fits=True) ...\n",
      "Leaderboard on holdout data (DyStack):\n",
      "                 model  score_holdout  score_val eval_metric  pred_time_test  pred_time_val   fit_time  pred_time_test_marginal  pred_time_val_marginal  fit_time_marginal  stack_level  can_infer  fit_order\n",
      "0    LightGBMXT_BAG_L2      -0.304527  -0.302664       rmsle        2.261730       2.500035  54.958859                 0.557341                0.661360          18.406709            2       True          3\n",
      "1  WeightedEnsemble_L3      -0.304527  -0.302664       rmsle        2.263367       2.509112  55.393568                 0.001637                0.009078           0.434709            3       True          4\n",
      "2    LightGBMXT_BAG_L1      -0.305826  -0.303664       rmsle        1.704389       1.838674  36.552150                 1.704389                1.838674          36.552150            1       True          1\n",
      "3  WeightedEnsemble_L2      -0.305826  -0.303664       rmsle        1.706161       1.847522  36.562363                 0.001772                0.008848           0.010214            2       True          2\n",
      "\t1\t = Optimal   num_stack_levels (Stacked Overfitting Occurred: False)\n",
      "\t63s\t = DyStack   runtime |\t177s\t = Remaining runtime\n",
      "Starting main fit with num_stack_levels=1.\n",
      "\tFor future fit calls on this dataset, you can skip DyStack to save time: `predictor.fit(..., dynamic_stacking=False, num_stack_levels=1)`\n",
      "Beginning AutoGluon training ... Time limit = 177s\n",
      "AutoGluon will save models to \"AutoGluon_mlflow_best_quality\"\n",
      "Train Data Rows:    360336\n",
      "Train Data Columns: 21\n",
      "Label Column:       cost\n",
      "Problem Type:       regression\n",
      "Preprocessing data ...\n",
      "Using Feature Generators to preprocess the data ...\n",
      "Fitting AutoMLPipelineFeatureGenerator...\n",
      "\tAvailable Memory:                    4647.46 MB\n",
      "\tTrain Data (Original)  Memory Usage: 20.96 MB (0.5% of available memory)\n",
      "\tInferring data type of each feature based on column values. Set feature_metadata_in to manually specify special dtypes of the features.\n",
      "\tStage 1 Generators:\n",
      "\t\tFitting AsTypeFeatureGenerator...\n",
      "\t\t\tNote: Converting 7 features to boolean dtype as they only contain 2 unique values.\n",
      "\tStage 2 Generators:\n",
      "\t\tFitting FillNaFeatureGenerator...\n",
      "\tStage 3 Generators:\n",
      "\t\tFitting IdentityFeatureGenerator...\n",
      "\t\tFitting CategoryFeatureGenerator...\n",
      "\t\t\tFitting CategoryMemoryMinimizeFeatureGenerator...\n",
      "\tStage 4 Generators:\n",
      "\t\tFitting DropUniqueFeatureGenerator...\n",
      "\tStage 5 Generators:\n",
      "\t\tFitting DropDuplicatesFeatureGenerator...\n",
      "\tUnused Original Features (Count: 1): ['prepared_food']\n",
      "\t\tThese features were not used to generate any of the output features. Add a feature generator compatible with these features to utilize them.\n",
      "\t\tFeatures can also be unused if they carry very little information, such as being categorical but having almost entirely unique values or being duplicates of other features.\n",
      "\t\tThese features do not need to be present at inference time.\n",
      "\t\t('int', []) : 1 | ['prepared_food']\n",
      "\tTypes of features in original data (raw dtype, special dtypes):\n",
      "\t\t('category', []) :  1 | ['autoFE_f_1']\n",
      "\t\t('float', [])    :  6 | ['store_sales_in_millions_', 'gross_weight', 'autoFE_f_0', 'autoFE_f_2', 'autoFE_f_3', ...]\n",
      "\t\t('int', [])      : 13 | ['id', 'unit_sales_in_millions_', 'total_children', 'num_children_at_home', 'avg_cars_at_home_approx__1', ...]\n",
      "\tTypes of features in processed data (raw dtype, special dtypes):\n",
      "\t\t('category', [])  : 1 | ['autoFE_f_1']\n",
      "\t\t('float', [])     : 6 | ['store_sales_in_millions_', 'gross_weight', 'autoFE_f_0', 'autoFE_f_2', 'autoFE_f_3', ...]\n",
      "\t\t('int', [])       : 7 | ['id', 'unit_sales_in_millions_', 'total_children', 'num_children_at_home', 'avg_cars_at_home_approx__1', ...]\n",
      "\t\t('int', ['bool']) : 6 | ['recyclable_package', 'low_fat', 'coffee_bar', 'video_store', 'salad_bar', ...]\n",
      "\t0.7s = Fit runtime\n",
      "\t20 features in original data used to generate 20 features in processed data.\n",
      "\tTrain Data (Processed) Memory Usage: 20.62 MB (0.4% of available memory)\n",
      "Data preprocessing and feature engineering runtime = 0.73s ...\n",
      "AutoGluon will gauge predictive performance using evaluation metric: 'rmsle'\n",
      "\tThis metric's sign has been flipped to adhere to being higher_is_better. The metric score can be multiplied by -1 to get the metric value.\n",
      "\tTo change this, specify the eval_metric parameter of Predictor()\n",
      "Large model count detected (112 configs) ... Only displaying the first 3 models of each family. To see all, set `verbosity=3`.\n",
      "User-specified model hyperparameters to be fit:\n",
      "{\n",
      "\t'NN_TORCH': [{}, {'activation': 'elu', 'dropout_prob': 0.10077639529843717, 'hidden_size': 108, 'learning_rate': 0.002735937344002146, 'num_layers': 4, 'use_batchnorm': True, 'weight_decay': 1.356433327634438e-12, 'ag_args': {'name_suffix': '_r79', 'priority': -2}}, {'activation': 'elu', 'dropout_prob': 0.11897478034205347, 'hidden_size': 213, 'learning_rate': 0.0010474382260641949, 'num_layers': 4, 'use_batchnorm': False, 'weight_decay': 5.594471067786272e-10, 'ag_args': {'name_suffix': '_r22', 'priority': -7}}],\n",
      "\t'GBM': [{'extra_trees': True, 'ag_args': {'name_suffix': 'XT'}}, {}, 'GBMLarge'],\n",
      "\t'CAT': [{}, {'depth': 6, 'grow_policy': 'SymmetricTree', 'l2_leaf_reg': 2.1542798306067823, 'learning_rate': 0.06864209415792857, 'max_ctr_complexity': 4, 'one_hot_max_size': 10, 'ag_args': {'name_suffix': '_r177', 'priority': -1}}, {'depth': 8, 'grow_policy': 'Depthwise', 'l2_leaf_reg': 2.7997999596449104, 'learning_rate': 0.031375015734637225, 'max_ctr_complexity': 2, 'one_hot_max_size': 3, 'ag_args': {'name_suffix': '_r9', 'priority': -5}}],\n",
      "\t'XGB': [{}, {'colsample_bytree': 0.6917311125174739, 'enable_categorical': False, 'learning_rate': 0.018063876087523967, 'max_depth': 10, 'min_child_weight': 0.6028633586934382, 'ag_args': {'name_suffix': '_r33', 'priority': -8}}, {'colsample_bytree': 0.6628423832084077, 'enable_categorical': False, 'learning_rate': 0.08775715546881824, 'max_depth': 5, 'min_child_weight': 0.6294123374222513, 'ag_args': {'name_suffix': '_r89', 'priority': -16}}],\n",
      "\t'FASTAI': [{}, {'bs': 256, 'emb_drop': 0.5411770367537934, 'epochs': 43, 'layers': [800, 400], 'lr': 0.01519848858318159, 'ps': 0.23782946566604385, 'ag_args': {'name_suffix': '_r191', 'priority': -4}}, {'bs': 2048, 'emb_drop': 0.05070411322605811, 'epochs': 29, 'layers': [200, 100], 'lr': 0.08974235041576624, 'ps': 0.10393466140748028, 'ag_args': {'name_suffix': '_r102', 'priority': -11}}],\n",
      "\t'RF': [{'criterion': 'gini', 'ag_args': {'name_suffix': 'Gini', 'problem_types': ['binary', 'multiclass']}}, {'criterion': 'entropy', 'ag_args': {'name_suffix': 'Entr', 'problem_types': ['binary', 'multiclass']}}, {'criterion': 'squared_error', 'ag_args': {'name_suffix': 'MSE', 'problem_types': ['regression', 'quantile']}}],\n",
      "\t'XT': [{'criterion': 'gini', 'ag_args': {'name_suffix': 'Gini', 'problem_types': ['binary', 'multiclass']}}, {'criterion': 'entropy', 'ag_args': {'name_suffix': 'Entr', 'problem_types': ['binary', 'multiclass']}}, {'criterion': 'squared_error', 'ag_args': {'name_suffix': 'MSE', 'problem_types': ['regression', 'quantile']}}],\n",
      "\t'KNN': [{'weights': 'uniform', 'ag_args': {'name_suffix': 'Unif'}}, {'weights': 'distance', 'ag_args': {'name_suffix': 'Dist'}}],\n",
      "}\n",
      "AutoGluon will fit 2 stack levels (L1 to L2) ...\n",
      "Excluded models: ['KNN'] (Specified by `excluded_model_types`)\n",
      "Fitting 106 L1 models ...\n",
      "Fitting model: LightGBMXT_BAG_L1 ... Training model for up to 117.73s of the 176.62s of remaining time.\n",
      "\tFitting 8 child models (S1F1 - S1F8) | Fitting with SequentialLocalFoldFittingStrategy\n",
      "\tRan out of time, early stopping on iteration 356. Best iteration is:\n",
      "\t[356]\tvalid_set's l2: 796.976\tvalid_set's rmsle: -0.302979\n",
      "\tRan out of time, early stopping on iteration 562. Best iteration is:\n",
      "\t[560]\tvalid_set's l2: 801.618\tvalid_set's rmsle: -0.302434\n",
      "\tRan out of time, early stopping on iteration 583. Best iteration is:\n",
      "\t[582]\tvalid_set's l2: 795.247\tvalid_set's rmsle: -0.301834\n",
      "\tRan out of time, early stopping on iteration 601. Best iteration is:\n",
      "\t[601]\tvalid_set's l2: 794.474\tvalid_set's rmsle: -0.301147\n",
      "\tRan out of time, early stopping on iteration 591. Best iteration is:\n",
      "\t[587]\tvalid_set's l2: 790.377\tvalid_set's rmsle: -0.300035\n",
      "\tRan out of time, early stopping on iteration 648. Best iteration is:\n",
      "\t[648]\tvalid_set's l2: 789.888\tvalid_set's rmsle: -0.300514\n",
      "\tRan out of time, early stopping on iteration 707. Best iteration is:\n",
      "\t[705]\tvalid_set's l2: 791.873\tvalid_set's rmsle: -0.301008\n",
      "\tRan out of time, early stopping on iteration 808. Best iteration is:\n",
      "\t[803]\tvalid_set's l2: 787.447\tvalid_set's rmsle: -0.299455\n",
      "\t-0.3012\t = Validation score   (-rmsle)\n",
      "\t107.03s\t = Training   runtime\n",
      "\t7.8s\t = Validation runtime\n",
      "Fitting model: LightGBM_BAG_L1 ... Training model for up to 2.34s of the 61.24s of remaining time.\n",
      "\tFitting 8 child models (S1F1 - S1F8) | Fitting with SequentialLocalFoldFittingStrategy\n",
      "\tRan out of time, early stopping on iteration 1. Best iteration is:\n",
      "\t[1]\tvalid_set's l2: 890.538\tvalid_set's rmsle: -0.320407\n",
      "\tTime limit exceeded... Skipping LightGBM_BAG_L1.\n",
      "Fitting model: RandomForestMSE_BAG_L1 ... Training model for up to 1.38s of the 60.28s of remaining time.\n",
      "\tWarning: Model is expected to require 439.8s to train, which exceeds the maximum time limit of 1.4s, skipping model...\n",
      "\tTime limit exceeded... Skipping RandomForestMSE_BAG_L1.\n",
      "Fitting model: WeightedEnsemble_L2 ... Training model for up to 176.64s of the 54.14s of remaining time.\n",
      "\tEnsemble Weights: {'LightGBMXT_BAG_L1': 1.0}\n",
      "\t-0.3012\t = Validation score   (-rmsle)\n",
      "\t0.01s\t = Training   runtime\n",
      "\t0.01s\t = Validation runtime\n",
      "Excluded models: ['KNN'] (Specified by `excluded_model_types`)\n",
      "Fitting 106 L2 models ...\n",
      "Fitting model: LightGBMXT_BAG_L2 ... Training model for up to 54.1s of the 54.08s of remaining time.\n",
      "\tFitting 8 child models (S1F1 - S1F8) | Fitting with SequentialLocalFoldFittingStrategy\n",
      "\tRan out of time, early stopping on iteration 195. Best iteration is:\n",
      "\t[194]\tvalid_set's l2: 778.219\tvalid_set's rmsle: -0.298436\n",
      "\tRan out of time, early stopping on iteration 210. Best iteration is:\n",
      "\t[210]\tvalid_set's l2: 787.786\tvalid_set's rmsle: -0.29994\n",
      "\tRan out of time, early stopping on iteration 218. Best iteration is:\n",
      "\t[218]\tvalid_set's l2: 792.668\tvalid_set's rmsle: -0.301133\n",
      "\tRan out of time, early stopping on iteration 213. Best iteration is:\n",
      "\t[213]\tvalid_set's l2: 785.479\tvalid_set's rmsle: -0.299193\n",
      "\tRan out of time, early stopping on iteration 241. Best iteration is:\n",
      "\t[241]\tvalid_set's l2: 783.821\tvalid_set's rmsle: -0.29913\n",
      "\tRan out of time, early stopping on iteration 245. Best iteration is:\n",
      "\t[243]\tvalid_set's l2: 788.585\tvalid_set's rmsle: -0.299658\n",
      "\tRan out of time, early stopping on iteration 267. Best iteration is:\n",
      "\t[267]\tvalid_set's l2: 780.298\tvalid_set's rmsle: -0.298285\n",
      "\tRan out of time, early stopping on iteration 340. Best iteration is:\n",
      "\t[335]\tvalid_set's l2: 790.868\tvalid_set's rmsle: -0.300189\n",
      "\t-0.2995\t = Validation score   (-rmsle)\n",
      "\t49.85s\t = Training   runtime\n",
      "\t2.78s\t = Validation runtime\n",
      "Fitting model: WeightedEnsemble_L3 ... Training model for up to 176.64s of the 0.83s of remaining time.\n",
      "\tEnsemble Weights: {'LightGBMXT_BAG_L2': 1.0}\n",
      "\t-0.2995\t = Validation score   (-rmsle)\n",
      "\t0.5s\t = Training   runtime\n",
      "\t0.01s\t = Validation runtime\n",
      "AutoGluon training complete, total runtime = 177.13s ... Best model: WeightedEnsemble_L3 | Estimated inference throughput: 4257.6 rows/s (45042 batch size)\n",
      "TabularPredictor saved. To load, use: predictor = TabularPredictor.load(\"AutoGluon_mlflow_best_quality\")\n",
      "Refitting models via `predictor.refit_full` using all of the data (combined train and validation)...\n",
      "\tModels trained in this way will have the suffix \"_FULL\" and have NaN validation score.\n",
      "\tThis process is not bound by time_limit, but should take less time than the original `predictor.fit` call.\n",
      "\tTo learn more, refer to the `.refit_full` method docstring which explains how \"_FULL\" models differ from normal models.\n",
      "Fitting 1 L1 models ...\n",
      "Fitting model: LightGBMXT_BAG_L1_FULL ...\n",
      "\t11.96s\t = Training   runtime\n",
      "Fitting model: WeightedEnsemble_L2_FULL | Skipping fit via cloning parent ...\n",
      "\tEnsemble Weights: {'LightGBMXT_BAG_L1': 1.0}\n",
      "\t0.01s\t = Training   runtime\n",
      "Fitting 1 L2 models ...\n",
      "Fitting model: LightGBMXT_BAG_L2_FULL ...\n",
      "\t5.97s\t = Training   runtime\n",
      "Fitting model: WeightedEnsemble_L3_FULL | Skipping fit via cloning parent ...\n",
      "\tEnsemble Weights: {'LightGBMXT_BAG_L2': 1.0}\n",
      "\t0.5s\t = Training   runtime\n",
      "Updated best model to \"WeightedEnsemble_L3_FULL\" (Previously \"WeightedEnsemble_L3\"). AutoGluon will default to using \"WeightedEnsemble_L3_FULL\" for predict() and predict_proba().\n",
      "Refit complete, total runtime = 18.25s ... Best model: \"WeightedEnsemble_L3_FULL\"\n",
      "Cloned TabularPredictor located in 'AutoGluon_mlflow_best_quality' to 'AutoGluon_mlflow_best_quality_deployment'.\n",
      "\tTo load the cloned predictor: predictor_clone = TabularPredictor.load(path=\"AutoGluon_mlflow_best_quality_deployment\")\n",
      "Clone: Keeping minimum set of models required to predict with best model 'WeightedEnsemble_L3_FULL'...\n",
      "Deleting model LightGBMXT_BAG_L1. All files under AutoGluon_mlflow_best_quality_deployment/models/LightGBMXT_BAG_L1 will be removed.\n",
      "Deleting model WeightedEnsemble_L2. All files under AutoGluon_mlflow_best_quality_deployment/models/WeightedEnsemble_L2 will be removed.\n",
      "Deleting model LightGBMXT_BAG_L2. All files under AutoGluon_mlflow_best_quality_deployment/models/LightGBMXT_BAG_L2 will be removed.\n",
      "Deleting model WeightedEnsemble_L3. All files under AutoGluon_mlflow_best_quality_deployment/models/WeightedEnsemble_L3 will be removed.\n",
      "Deleting model WeightedEnsemble_L2_FULL. All files under AutoGluon_mlflow_best_quality_deployment/models/WeightedEnsemble_L2_FULL will be removed.\n",
      "Clone: Removing artifacts unnecessary for prediction. NOTE: Clone can no longer fit new models, and most functionality except for predict and predict_proba will no longer work\n",
      "Downloading artifacts: 100%|██████████| 12/12 [00:00<00:00, 1490.12it/s]\n"
     ]
    }
   ],
   "source": [
    "\n",
    "mlflow_autogluon_remote_aws_ec2 = MLflowAutoGluon(\n",
    "    tracking_server=\"remote\",\n",
    "    backend_store=tracking_server,\n",
    "    artifact_location=f\"s3://{artifact_path_s3}\",\n",
    "    experiment_name=experiment_name,\n",
    "    competition_name=competition_name,\n",
    "    target_name=target,\n",
    ")\n",
    "mlflow_autogluon_remote_aws_ec2.train_and_log_model(\n",
    "    presets=autogluon_preset,\n",
    "    target=target,\n",
    "    train_transformed=train_transformed,\n",
    "    test_transformed=test_transformed,\n",
    "    run_time=4,\n",
    ")"
   ]
  },
  {
   "cell_type": "markdown",
   "metadata": {},
   "source": [
    "#### Submitting Results to Kaggle Competition and Storing Results in MLflow\n",
    "We will use our model to create predictiong for Kaggle competition and use Kaggle API to submit our results. For that we will use MlflowClient to get the experiment name, experiment id and run_id. We will need this information to download the model from s3 bucket locally to perform prediction on test set."
   ]
  },
  {
   "cell_type": "code",
   "execution_count": 23,
   "metadata": {},
   "outputs": [
    {
     "name": "stdout",
     "output_type": "stream",
     "text": [
      "---\n",
      "Experiment ID: 3\n",
      "Name: mlops_project\n",
      "Artifact Location: s3://mlflow-artifact-ag3\n",
      "Lifecycle Stage: active\n",
      "---\n"
     ]
    }
   ],
   "source": [
    "# Lets pull the model from s3 bucket where we stored it \n",
    "# For that we need to get the empexperiment id and run id using MflfowClient\n",
    "mlflow_client = MlflowClient(f'http://{tracking_server}:5000')\n",
    "experiment = mlflow_client.get_experiment_by_name(experiment_name)\n",
    "\n",
    "print(\"---\")\n",
    "print(f\"Experiment ID: {experiment.experiment_id}\")\n",
    "print(f\"Name: {experiment.name}\")\n",
    "print(f\"Artifact Location: {experiment.artifact_location}\")\n",
    "print(f\"Lifecycle Stage: {experiment.lifecycle_stage}\")\n",
    "print(\"---\")"
   ]
  },
  {
   "cell_type": "code",
   "execution_count": 24,
   "metadata": {},
   "outputs": [
    {
     "name": "stdout",
     "output_type": "stream",
     "text": [
      "Experiment ID: 3, Run ID: 62f1decc0ef14c0a80d3aef1e1643018\n"
     ]
    }
   ],
   "source": [
    "run_name = autogluon_preset[0]\n",
    "\n",
    "# Search for runs with the specified run name\n",
    "runs = mlflow_client.search_runs(\n",
    "    experiment_ids=[experiment.experiment_id],\n",
    "    filter_string=f\"tags.mlflow.runName = '{run_name}'\"\n",
    ")\n",
    "\n",
    "experiment_id = experiment.experiment_id\n",
    "if runs:\n",
    "    run_id = runs[0].info.run_id\n",
    "    print(f\"Experiment ID: {experiment.experiment_id}, Run ID: {run_id}\")\n",
    "else:\n",
    "    print(\"No run found with the specified name.\")\n",
    "    "
   ]
  },
  {
   "cell_type": "markdown",
   "metadata": {},
   "source": [
    "I created a convinient function list_files_in_s3_folder to list the contents of the s3 folder where we stored our model."
   ]
  },
  {
   "cell_type": "code",
   "execution_count": 27,
   "metadata": {},
   "outputs": [
    {
     "name": "stdout",
     "output_type": "stream",
     "text": [
      "62f1decc0ef14c0a80d3aef1e1643018/artifacts/AutoGluon_mlflow_best_quality_deployment/artifacts/AutoGluon_mlflow_best_quality_deployment/learner.pkl\n",
      "62f1decc0ef14c0a80d3aef1e1643018/artifacts/AutoGluon_mlflow_best_quality_deployment/artifacts/AutoGluon_mlflow_best_quality_deployment/metadata.json\n",
      "62f1decc0ef14c0a80d3aef1e1643018/artifacts/AutoGluon_mlflow_best_quality_deployment/artifacts/AutoGluon_mlflow_best_quality_deployment/models/LightGBMXT_BAG_L1_FULL/S1F1/model.pkl\n",
      "62f1decc0ef14c0a80d3aef1e1643018/artifacts/AutoGluon_mlflow_best_quality_deployment/artifacts/AutoGluon_mlflow_best_quality_deployment/models/LightGBMXT_BAG_L1_FULL/model.pkl\n",
      "62f1decc0ef14c0a80d3aef1e1643018/artifacts/AutoGluon_mlflow_best_quality_deployment/artifacts/AutoGluon_mlflow_best_quality_deployment/models/LightGBMXT_BAG_L2_FULL/S1F1/model.pkl\n",
      "62f1decc0ef14c0a80d3aef1e1643018/artifacts/AutoGluon_mlflow_best_quality_deployment/artifacts/AutoGluon_mlflow_best_quality_deployment/models/LightGBMXT_BAG_L2_FULL/model.pkl\n",
      "62f1decc0ef14c0a80d3aef1e1643018/artifacts/AutoGluon_mlflow_best_quality_deployment/artifacts/AutoGluon_mlflow_best_quality_deployment/models/LightGBM_BAG_L1/utils/model_template.pkl\n",
      "62f1decc0ef14c0a80d3aef1e1643018/artifacts/AutoGluon_mlflow_best_quality_deployment/artifacts/AutoGluon_mlflow_best_quality_deployment/models/RandomForestMSE_BAG_L1/utils/model_template.pkl\n",
      "62f1decc0ef14c0a80d3aef1e1643018/artifacts/AutoGluon_mlflow_best_quality_deployment/artifacts/AutoGluon_mlflow_best_quality_deployment/models/WeightedEnsemble_L3_FULL/model.pkl\n",
      "62f1decc0ef14c0a80d3aef1e1643018/artifacts/AutoGluon_mlflow_best_quality_deployment/artifacts/AutoGluon_mlflow_best_quality_deployment/models/trainer.pkl\n",
      "62f1decc0ef14c0a80d3aef1e1643018/artifacts/AutoGluon_mlflow_best_quality_deployment/artifacts/AutoGluon_mlflow_best_quality_deployment/predictor.pkl\n",
      "62f1decc0ef14c0a80d3aef1e1643018/artifacts/AutoGluon_mlflow_best_quality_deployment/artifacts/AutoGluon_mlflow_best_quality_deployment/version.txt\n"
     ]
    }
   ],
   "source": [
    "s3_folder = f\"{run_id}/artifacts/AutoGluon_mlflow_best_quality_deployment/artifacts/AutoGluon_mlflow_best_quality_deployment/\"\n",
    "list_files_in_s3_folder(bucket_name=artifact_path_s3, s3_folder=s3_folder)"
   ]
  },
  {
   "cell_type": "markdown",
   "metadata": {},
   "source": [
    "Based on my research you can pull files one at a time from s3 bucket, but there is not straight way to bring in the folder with all its contents. I build the function download_s3_folder that does that. Below we store our model locally to further use it for predicting on the test set and deploy it as web service."
   ]
  },
  {
   "cell_type": "code",
   "execution_count": 28,
   "metadata": {},
   "outputs": [
    {
     "name": "stdout",
     "output_type": "stream",
     "text": [
      "Downloading 62f1decc0ef14c0a80d3aef1e1643018/artifacts/AutoGluon_mlflow_best_quality_deployment/artifacts/AutoGluon_mlflow_best_quality_deployment/learner.pkl\n",
      "Downloaded 62f1decc0ef14c0a80d3aef1e1643018/artifacts/AutoGluon_mlflow_best_quality_deployment/artifacts/AutoGluon_mlflow_best_quality_deployment/learner.pkl to /workspaces/MLOPs-homeworks/project/mlops_project/model/playground-series-s3e11/learner.pkl\n",
      "Downloading 62f1decc0ef14c0a80d3aef1e1643018/artifacts/AutoGluon_mlflow_best_quality_deployment/artifacts/AutoGluon_mlflow_best_quality_deployment/metadata.json\n",
      "Downloaded 62f1decc0ef14c0a80d3aef1e1643018/artifacts/AutoGluon_mlflow_best_quality_deployment/artifacts/AutoGluon_mlflow_best_quality_deployment/metadata.json to /workspaces/MLOPs-homeworks/project/mlops_project/model/playground-series-s3e11/metadata.json\n",
      "Downloading 62f1decc0ef14c0a80d3aef1e1643018/artifacts/AutoGluon_mlflow_best_quality_deployment/artifacts/AutoGluon_mlflow_best_quality_deployment/models/LightGBMXT_BAG_L1_FULL/S1F1/model.pkl\n",
      "Downloaded 62f1decc0ef14c0a80d3aef1e1643018/artifacts/AutoGluon_mlflow_best_quality_deployment/artifacts/AutoGluon_mlflow_best_quality_deployment/models/LightGBMXT_BAG_L1_FULL/S1F1/model.pkl to /workspaces/MLOPs-homeworks/project/mlops_project/model/playground-series-s3e11/models/LightGBMXT_BAG_L1_FULL/S1F1/model.pkl\n",
      "Downloading 62f1decc0ef14c0a80d3aef1e1643018/artifacts/AutoGluon_mlflow_best_quality_deployment/artifacts/AutoGluon_mlflow_best_quality_deployment/models/LightGBMXT_BAG_L1_FULL/model.pkl\n",
      "Downloaded 62f1decc0ef14c0a80d3aef1e1643018/artifacts/AutoGluon_mlflow_best_quality_deployment/artifacts/AutoGluon_mlflow_best_quality_deployment/models/LightGBMXT_BAG_L1_FULL/model.pkl to /workspaces/MLOPs-homeworks/project/mlops_project/model/playground-series-s3e11/models/LightGBMXT_BAG_L1_FULL/model.pkl\n",
      "Downloading 62f1decc0ef14c0a80d3aef1e1643018/artifacts/AutoGluon_mlflow_best_quality_deployment/artifacts/AutoGluon_mlflow_best_quality_deployment/models/LightGBMXT_BAG_L2_FULL/S1F1/model.pkl\n",
      "Downloaded 62f1decc0ef14c0a80d3aef1e1643018/artifacts/AutoGluon_mlflow_best_quality_deployment/artifacts/AutoGluon_mlflow_best_quality_deployment/models/LightGBMXT_BAG_L2_FULL/S1F1/model.pkl to /workspaces/MLOPs-homeworks/project/mlops_project/model/playground-series-s3e11/models/LightGBMXT_BAG_L2_FULL/S1F1/model.pkl\n",
      "Downloading 62f1decc0ef14c0a80d3aef1e1643018/artifacts/AutoGluon_mlflow_best_quality_deployment/artifacts/AutoGluon_mlflow_best_quality_deployment/models/LightGBMXT_BAG_L2_FULL/model.pkl\n",
      "Downloaded 62f1decc0ef14c0a80d3aef1e1643018/artifacts/AutoGluon_mlflow_best_quality_deployment/artifacts/AutoGluon_mlflow_best_quality_deployment/models/LightGBMXT_BAG_L2_FULL/model.pkl to /workspaces/MLOPs-homeworks/project/mlops_project/model/playground-series-s3e11/models/LightGBMXT_BAG_L2_FULL/model.pkl\n",
      "Downloading 62f1decc0ef14c0a80d3aef1e1643018/artifacts/AutoGluon_mlflow_best_quality_deployment/artifacts/AutoGluon_mlflow_best_quality_deployment/models/LightGBM_BAG_L1/utils/model_template.pkl\n",
      "Downloaded 62f1decc0ef14c0a80d3aef1e1643018/artifacts/AutoGluon_mlflow_best_quality_deployment/artifacts/AutoGluon_mlflow_best_quality_deployment/models/LightGBM_BAG_L1/utils/model_template.pkl to /workspaces/MLOPs-homeworks/project/mlops_project/model/playground-series-s3e11/models/LightGBM_BAG_L1/utils/model_template.pkl\n",
      "Downloading 62f1decc0ef14c0a80d3aef1e1643018/artifacts/AutoGluon_mlflow_best_quality_deployment/artifacts/AutoGluon_mlflow_best_quality_deployment/models/RandomForestMSE_BAG_L1/utils/model_template.pkl\n",
      "Downloaded 62f1decc0ef14c0a80d3aef1e1643018/artifacts/AutoGluon_mlflow_best_quality_deployment/artifacts/AutoGluon_mlflow_best_quality_deployment/models/RandomForestMSE_BAG_L1/utils/model_template.pkl to /workspaces/MLOPs-homeworks/project/mlops_project/model/playground-series-s3e11/models/RandomForestMSE_BAG_L1/utils/model_template.pkl\n",
      "Downloading 62f1decc0ef14c0a80d3aef1e1643018/artifacts/AutoGluon_mlflow_best_quality_deployment/artifacts/AutoGluon_mlflow_best_quality_deployment/models/WeightedEnsemble_L3_FULL/model.pkl\n",
      "Downloaded 62f1decc0ef14c0a80d3aef1e1643018/artifacts/AutoGluon_mlflow_best_quality_deployment/artifacts/AutoGluon_mlflow_best_quality_deployment/models/WeightedEnsemble_L3_FULL/model.pkl to /workspaces/MLOPs-homeworks/project/mlops_project/model/playground-series-s3e11/models/WeightedEnsemble_L3_FULL/model.pkl\n",
      "Downloading 62f1decc0ef14c0a80d3aef1e1643018/artifacts/AutoGluon_mlflow_best_quality_deployment/artifacts/AutoGluon_mlflow_best_quality_deployment/models/trainer.pkl\n",
      "Downloaded 62f1decc0ef14c0a80d3aef1e1643018/artifacts/AutoGluon_mlflow_best_quality_deployment/artifacts/AutoGluon_mlflow_best_quality_deployment/models/trainer.pkl to /workspaces/MLOPs-homeworks/project/mlops_project/model/playground-series-s3e11/models/trainer.pkl\n",
      "Downloading 62f1decc0ef14c0a80d3aef1e1643018/artifacts/AutoGluon_mlflow_best_quality_deployment/artifacts/AutoGluon_mlflow_best_quality_deployment/predictor.pkl\n",
      "Downloaded 62f1decc0ef14c0a80d3aef1e1643018/artifacts/AutoGluon_mlflow_best_quality_deployment/artifacts/AutoGluon_mlflow_best_quality_deployment/predictor.pkl to /workspaces/MLOPs-homeworks/project/mlops_project/model/playground-series-s3e11/predictor.pkl\n",
      "Downloading 62f1decc0ef14c0a80d3aef1e1643018/artifacts/AutoGluon_mlflow_best_quality_deployment/artifacts/AutoGluon_mlflow_best_quality_deployment/version.txt\n",
      "Downloaded 62f1decc0ef14c0a80d3aef1e1643018/artifacts/AutoGluon_mlflow_best_quality_deployment/artifacts/AutoGluon_mlflow_best_quality_deployment/version.txt to /workspaces/MLOPs-homeworks/project/mlops_project/model/playground-series-s3e11/version.txt\n",
      "Successfully downloaded folder '62f1decc0ef14c0a80d3aef1e1643018/artifacts/AutoGluon_mlflow_best_quality_deployment/artifacts/AutoGluon_mlflow_best_quality_deployment/' from bucket 'mlflow-artifact-ag3' to '/workspaces/MLOPs-homeworks/project/mlops_project/model/playground-series-s3e11'\n"
     ]
    }
   ],
   "source": [
    "download_s3_folder(bucket_name=artifact_path_s3, \n",
    "                   s3_folder=s3_folder, \n",
    "                   local_dir=f\"{project_path}/model/{competition_name}\")"
   ]
  },
  {
   "cell_type": "markdown",
   "metadata": {},
   "source": [
    "Autogluon provides a convinient way to load the model using TabularPredictor.load method, we use it to bring in model and create predictions for the test set. We store results as csv file to further submit it to Kaggle competetion."
   ]
  },
  {
   "cell_type": "code",
   "execution_count": 29,
   "metadata": {},
   "outputs": [],
   "source": [
    "# Load the model for predictions \n",
    "predictor = TabularPredictor.load(f\"{project_path}/model/{competition_name}\")\n",
    "# Create a folder for submitions \n",
    "submission_path = f\"data/{competition_name}/submission_files\"\n",
    "os.makedirs(submission_path, exist_ok=True)\n",
    "# Make predictions\n",
    "submission[target] = predictor.predict(test_transformed)\n",
    "submission_file = f\"{submission_path}/sub_{run_time}_{autogluon_preset}.csv\"\n",
    "submission.to_csv(submission_file, index=False)"
   ]
  },
  {
   "cell_type": "markdown",
   "metadata": {},
   "source": [
    "We use our kaggle client to submit the results to the competition and get the score back."
   ]
  },
  {
   "cell_type": "code",
   "execution_count": 31,
   "metadata": {},
   "outputs": [
    {
     "name": "stderr",
     "output_type": "stream",
     "text": [
      "100%|██████████| 3.81M/3.81M [00:01<00:00, 3.58MB/s]\n"
     ]
    },
    {
     "name": "stdout",
     "output_type": "stream",
     "text": [
      "Submission data/playground-series-s3e11/submission_files/sub_4_['best_quality'].csv for playground-series-s3e11 using ['best_quality']: 'AutoGluon ['best_quality'] 4 min'\n",
      "Submission score: 0.2987\n"
     ]
    }
   ],
   "source": [
    "# Submit the file to Kaggle\n",
    "kaggle_score = kaggle_client.submit(\n",
    "    submission_file=submission_file,\n",
    "    model_name=autogluon_preset,\n",
    "    message=f\"AutoGluon {autogluon_preset} {run_time} min\",\n",
    ")"
   ]
  },
  {
   "cell_type": "markdown",
   "metadata": {},
   "source": [
    "Below we store kaggle score in Mlflow for our experiment. "
   ]
  },
  {
   "cell_type": "code",
   "execution_count": 32,
   "metadata": {},
   "outputs": [],
   "source": [
    "# Log the new metric to the existing run\n",
    "metric_name = \"kaggle_score\"\n",
    "metric_value = kaggle_score\n",
    "\n",
    "# Log the kaggle score\n",
    "mlflow_client.log_metric(run_id, metric_name, metric_value)"
   ]
  },
  {
   "cell_type": "markdown",
   "metadata": {},
   "source": [
    "In the screenshot below you can see, the results from AutoGluon model run with kaggle score. "
   ]
  },
  {
   "cell_type": "code",
   "execution_count": 35,
   "metadata": {},
   "outputs": [
    {
     "data": {
      "image/png": "[encoded data removed]",
      "text/plain": [
       "<PIL.PngImagePlugin.PngImageFile image mode=RGBA size=1125x490>"
      ]
     },
     "metadata": {},
     "output_type": "display_data"
    }
   ],
   "source": [
    "from PIL import Image\n",
    "from IPython.display import display\n",
    "image = Image.open(f\"{project_path}/MlfLow_summary.png\")\n",
    "display(image)"
   ]
  },
  {
   "cell_type": "markdown",
   "metadata": {},
   "source": [
    "Within MlflowAutogluon class I have implemented 2 other options to track experiments: \n",
    "1) No tracking server, with local backend and artifact store\n",
    "2) With local tracking server, with sqlite backend store and local filesystem for artifacts.\n",
    "\n",
    "For the sake of simplicity I left them here commented, but user can try them on if needed."
   ]
  },
  {
   "cell_type": "code",
   "execution_count": null,
   "metadata": {},
   "outputs": [],
   "source": [
    "# Scenario 2:\n",
    "## Tracking server: no\n",
    "## Backend store: local filesystem\n",
    "## Artifacts store: local filesystem\n",
    "\n",
    "## --------------------\n",
    "# mlflow_autogluon_local = MLflowAutoGluon(\n",
    "#     tracking_server=\"no\",\n",
    "#     backend_store=f\"{project_path}/mlruns\",\n",
    "#     artifact_location=f\"{project_path}/mlruns\",\n",
    "#     experiment_name=\"test\",\n",
    "#     competition_name=competition_name,\n",
    "#     target_name=target,\n",
    "# )\n",
    "# mlflow_autogluon_local.train_and_log_model(\n",
    "#     presets=[\"medium_quality\"],\n",
    "#     target=target,\n",
    "#     train_transformed=train_transformed,\n",
    "#     test_transformed=test_transformed,\n",
    "#     run_time=1,\n",
    "#     for_deployment=True,\n",
    "#     for_kaggle_submission=False,\n",
    "# )\n",
    "## --------------------"
   ]
  },
  {
   "cell_type": "code",
   "execution_count": null,
   "metadata": {},
   "outputs": [],
   "source": [
    "# Scenario 3:\n",
    "## tracking server: yes, local server\n",
    "## backend store: sqlite database\n",
    "## artifacts store: local filesystem\n",
    "\n",
    "## --------------------\n",
    "# mlflow_autogluon_local_server = MLflowAutoGluon(\n",
    "#     tracking_server=\"local\",\n",
    "#     backend_store=f\"{project_path}/backend.db\",\n",
    "#     artifact_location=f\"{project_path}/mlruns\",\n",
    "#     experiment_name=\"test_32\",\n",
    "#     competition_name=competition_name,\n",
    "#     target_name=target,\n",
    "# )\n",
    "# mlflow_autogluon_local_server.train_and_log_model(\n",
    "#     presets=[\"best_quality\"],\n",
    "#     target=target,\n",
    "#     train_transformed=train_transformed,\n",
    "#     test_transformed=test_transformed,\n",
    "#     run_time=1,\n",
    "# )\n",
    "## --------------------"
   ]
  },
  {
   "cell_type": "markdown",
   "metadata": {},
   "source": [
    "#### Conclusion and Next steps\n",
    "\n",
    "Things to add: \n",
    "1) automatic pull of experiment name, id, run_id, without manually adding them. \n",
    "2) add screenshots from the Mlflow with kaggle score and supporting models.\n",
    "\n",
    "The first part of the project that covers parts from getting the data and building the model for deployment"
   ]
  }
 ],
 "metadata": {
  "kernelspec": {
   "display_name": "project",
   "language": "python",
   "name": "python3"
  },
  "language_info": {
   "codemirror_mode": {
    "name": "ipython",
    "version": 3
   },
   "file_extension": ".py",
   "mimetype": "text/x-python",
   "name": "python",
   "nbconvert_exporter": "python",
   "pygments_lexer": "ipython3",
   "version": "3.9.19"
  }
 },
 "nbformat": 4,
 "nbformat_minor": 2
}
